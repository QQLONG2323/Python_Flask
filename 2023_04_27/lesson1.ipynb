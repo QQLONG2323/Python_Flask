{
 "cells": [
  {
   "cell_type": "code",
   "execution_count": 8,
   "metadata": {},
   "outputs": [
    {
     "name": "stdout",
     "output_type": "stream",
     "text": [
      "倒數計時:10\n"
     ]
    },
    {
     "name": "stdout",
     "output_type": "stream",
     "text": [
      "倒數計時:9\n",
      "倒數計時:8\n",
      "倒數計時:7\n",
      "倒數計時:6\n",
      "倒數計時:5\n",
      "倒數計時:4\n",
      "倒數計時:3\n",
      "倒數計時:2\n",
      "倒數計時:1\n"
     ]
    }
   ],
   "source": [
    "#建立一個次執行緒執行的function\n",
    "import time\n",
    "def countdown(n):\n",
    "    while n > 0:\n",
    "        print(f\"倒數計時:{n}\")\n",
    "        n -= 1\n",
    "        time.sleep(5)\n",
    "\n",
    "from threading import Thread\n",
    "t_instance = Thread(target=countdown,args=(10,))\n",
    "t_instance.start()"
   ]
  },
  {
   "cell_type": "code",
   "execution_count": 3,
   "metadata": {},
   "outputs": [
    {
     "name": "stdout",
     "output_type": "stream",
     "text": [
      "倒數計時:10\n",
      "次執行緒還在工作\n",
      "倒數計時:9次執行緒還在工作\n",
      "\n",
      "次執行緒還在工作倒數計時:8\n",
      "\n",
      "倒數計時:7次執行緒還在工作\n",
      "\n",
      "倒數計時:6次執行緒還在工作\n",
      "\n",
      "次執行緒還在工作倒數計時:5\n",
      "\n",
      "倒數計時:4次執行緒還在工作\n",
      "\n",
      "次執行緒還在工作倒數計時:3\n",
      "\n",
      "倒數計時:2次執行緒還在工作\n",
      "\n",
      "倒數計時:1次執行緒還在工作\n",
      "\n",
      "執行緒工作結束\n",
      "主執行緒工作結束\n"
     ]
    }
   ],
   "source": [
    "#建立一個次執行緒執行的function\n",
    "import time\n",
    "def countdown(n):\n",
    "    while n > 0:\n",
    "        print(f\"倒數計時:{n}\")\n",
    "        n -= 1\n",
    "        time.sleep(5)\n",
    "\n",
    "#次執行緒開始工作\n",
    "from threading import Thread\n",
    "t_instance = Thread(target=countdown,args=(10,))\n",
    "t_instance.start()\n",
    "\n",
    "#當次執行緒工作時，加入主執行緒同時工作(同時多工)\n",
    "while t_instance.is_alive():\n",
    "    print(\"次執行緒還在工作\")\n",
    "    time.sleep(1)\n",
    "else:\n",
    "    print(\"執行緒工作結束\")\n",
    "print(\"主執行緒工作結束\")"
   ]
  },
  {
   "cell_type": "code",
   "execution_count": 7,
   "metadata": {},
   "outputs": [
    {
     "name": "stdout",
     "output_type": "stream",
     "text": [
      "倒數計時:10\n",
      "倒數計時:9\n",
      "倒數計時:8\n",
      "倒數計時:7\n",
      "倒數計時:6\n",
      "倒數計時:5\n",
      "倒數計時:4\n",
      "倒數計時:3\n",
      "倒數計時:2\n",
      "倒數計時:1\n",
      "執行緒執行完畢\n"
     ]
    }
   ],
   "source": [
    "#t_instance.join()\n",
    "#主執行緒在這裏先暫停,等待次執行緒工作結束\n",
    "\n",
    "import time\n",
    "def countdown(n):\n",
    "    while n > 0:\n",
    "        print(f\"倒數計時:{n}\")\n",
    "        n -= 1\n",
    "        time.sleep(1)\n",
    "\n",
    "from threading import Thread\n",
    "t_instance = Thread(target=countdown,args=(10,))\n",
    "t_instance.start()\n",
    "t_instance.join() #主執行緒在這裏先暫停,等待次執行緒工作結束\n",
    "print(\"執行緒執行完畢\")"
   ]
  },
  {
   "cell_type": "code",
   "execution_count": 8,
   "metadata": {},
   "outputs": [
    {
     "name": "stdout",
     "output_type": "stream",
     "text": [
      "倒數計時開始:\n",
      "倒數計時:5\n",
      "倒數計時:4\n",
      "倒數計時:3\n",
      "倒數計時:2\n",
      "倒數計時:1\n",
      "執行緒結束執行\n"
     ]
    }
   ],
   "source": [
    "from threading import Thread\n",
    "import time\n",
    "\n",
    "class CountdownThread(Thread):\n",
    "    def __init__(self,n):\n",
    "        super().__init__()\n",
    "        self.n = n\n",
    "\n",
    "    def run(self):\n",
    "        print(\"倒數計時開始:\")\n",
    "        while self.n > 0:\n",
    "            print(f\"倒數計時:{self.n}\")\n",
    "            self.n -= 1\n",
    "            time.sleep(1)\n",
    "\n",
    "c_thread = CountdownThread(5)\n",
    "c_thread.start()\n",
    "c_thread.join()\n",
    "print(\"執行緒結束執行\")"
   ]
  },
  {
   "cell_type": "code",
   "execution_count": 12,
   "metadata": {},
   "outputs": [
    {
     "name": "stdout",
     "output_type": "stream",
     "text": [
      "倒數計時:5\n"
     ]
    },
    {
     "name": "stdout",
     "output_type": "stream",
     "text": [
      "倒數計時:4\n",
      "倒數計時:3\n",
      "倒數計時:2\n",
      "倒數計時:1\n"
     ]
    }
   ],
   "source": [
    "from threading import Timer\n",
    "\n",
    "def countDown(n):\n",
    "    if n > 0:\n",
    "        print(f\"倒數計時:{n}\")\n",
    "        t = Timer(1,countDown,args=(n-1,))\n",
    "        t.start()\n",
    "\n",
    "countDown(5)"
   ]
  }
 ],
 "metadata": {
  "kernelspec": {
   "display_name": "venv",
   "language": "python",
   "name": "python3"
  },
  "language_info": {
   "codemirror_mode": {
    "name": "ipython",
    "version": 3
   },
   "file_extension": ".py",
   "mimetype": "text/x-python",
   "name": "python",
   "nbconvert_exporter": "python",
   "pygments_lexer": "ipython3",
   "version": "3.8.6"
  },
  "orig_nbformat": 4
 },
 "nbformat": 4,
 "nbformat_minor": 2
}
