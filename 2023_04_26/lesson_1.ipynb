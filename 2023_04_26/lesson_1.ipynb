{
 "cells": [
  {
   "cell_type": "code",
   "execution_count": 1,
   "metadata": {},
   "outputs": [
    {
     "data": {
      "text/plain": [
       "(888, 666)"
      ]
     },
     "execution_count": 1,
     "metadata": {},
     "output_type": "execute_result"
    }
   ],
   "source": [
    "#2數交換\n",
    "\n",
    "n = 666\n",
    "m = 888\n",
    "temporary = n\n",
    "n = m\n",
    "m = temporary\n",
    "\n",
    "n,m"
   ]
  },
  {
   "cell_type": "code",
   "execution_count": 15,
   "metadata": {},
   "outputs": [
    {
     "data": {
      "text/plain": [
       "(666, 888)"
      ]
     },
     "execution_count": 15,
     "metadata": {},
     "output_type": "execute_result"
    }
   ],
   "source": [
    "#2數交換\n",
    "#錯誤寫法(call by value)\n",
    "\n",
    "def swap_value(a, b):\n",
    "    temporary = a\n",
    "    a = b\n",
    "    b = temporary\n",
    "\n",
    "n = 666\n",
    "m = 888\n",
    "swap_value(n, m)\n",
    "\n",
    "n,m"
   ]
  },
  {
   "cell_type": "code",
   "execution_count": 16,
   "metadata": {},
   "outputs": [
    {
     "data": {
      "text/plain": [
       "(888, 666)"
      ]
     },
     "execution_count": 16,
     "metadata": {},
     "output_type": "execute_result"
    }
   ],
   "source": [
    "#2數交換\n",
    "#正確寫法(call by value)\n",
    "\n",
    "def swap_value(a, b):\n",
    "    temporary = a\n",
    "    a = b\n",
    "    b = temporary\n",
    "    return a,b\n",
    "\n",
    "n = 666\n",
    "m = 888\n",
    "n,m = swap_value(n, m)\n",
    "\n",
    "n,m"
   ]
  },
  {
   "cell_type": "code",
   "execution_count": 17,
   "metadata": {},
   "outputs": [
    {
     "data": {
      "text/plain": [
       "30"
      ]
     },
     "execution_count": 17,
     "metadata": {},
     "output_type": "execute_result"
    }
   ],
   "source": [
    "def add(a,b):\n",
    "    return a+b\n",
    "\n",
    "n = 10\n",
    "m = 20\n",
    "result = add(n, m)\n",
    "result"
   ]
  },
  {
   "cell_type": "code",
   "execution_count": 18,
   "metadata": {},
   "outputs": [
    {
     "data": {
      "text/plain": [
       "(888, 666)"
      ]
     },
     "execution_count": 18,
     "metadata": {},
     "output_type": "execute_result"
    }
   ],
   "source": [
    "def swap_elements(l):\n",
    "    temporary = l[0]\n",
    "    l[0] = l[1]\n",
    "    l[1] = temporary\n",
    "\n",
    "nums = [666, 888]\n",
    "swap_elements(nums)\n",
    "nums[0],nums[1]"
   ]
  }
 ],
 "metadata": {
  "kernelspec": {
   "display_name": "Python 3",
   "language": "python",
   "name": "python3"
  },
  "language_info": {
   "codemirror_mode": {
    "name": "ipython",
    "version": 3
   },
   "file_extension": ".py",
   "mimetype": "text/x-python",
   "name": "python",
   "nbconvert_exporter": "python",
   "pygments_lexer": "ipython3",
   "version": "3.8.6"
  },
  "orig_nbformat": 4
 },
 "nbformat": 4,
 "nbformat_minor": 2
}
